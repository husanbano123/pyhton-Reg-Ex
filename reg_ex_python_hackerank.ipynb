{
 "cells": [
  {
   "cell_type": "markdown",
   "id": "b37a2153",
   "metadata": {},
   "source": [
    "Using re.compile() is useful when you need to use the same regular expression pattern multiple times in your code. "
   ]
  },
  {
   "cell_type": "markdown",
   "id": "a02a1513",
   "metadata": {},
   "source": [
    "import re\n",
    "pattern=re.compile(r\"[+-]?[0-9]*\\.[0-9]+$\")\n",
    "for _ in range(int(input())):\n",
    "    num_str=input()\n",
    "    match=pattern.match(num_str)\n",
    "    print(bool(match))\n"
   ]
  },
  {
   "cell_type": "markdown",
   "id": "6a3fbfe7",
   "metadata": {},
   "source": [
    "r\"[+-]?[0-9]*\\.[0-9]+$\" - where\n",
    "1.r\"[+-]?\": This part matches an optional positive or negative sign. \n",
    "2.The ? character makes the preceding [+-] character set optional, meaning that the sign can appear zero or one times. \n",
    "3.[0-9]+: This part matches one or more digits after the decimal point. The + character quantifier means that the preceding character set [0-9] must appear one or more times.\n",
    "4.$: This part matches the end of the string. The $ anchor asserts that the match must occur at the end of the string. "
   ]
  },
  {
   "cell_type": "markdown",
   "id": "1e1054db",
   "metadata": {},
   "source": [
    "\n",
    "The re.split() function in Python is used to split a string into substrings based on a specified regular expression pattern. It works similarly to the built-in split() method of strings, but it uses a regular expression pattern for splitting instead of a fixed delimiter string.\n",
    "\n",
    "Here's a breakdown of the code re.split(regex_pattern, input()):\n",
    "\n",
    "regex_pattern = r\"[,.]+\": This defines the regular expression pattern used for splitting the input string. In this pattern:\n",
    "[,.]+ matches one or more occurrences of either a comma , or a period .. The square brackets [] denote a character class, which means the pattern matches any single character within the brackets. The + quantifier indicates that the character class must appear one or more times consecutively."
   ]
  },
  {
   "cell_type": "code",
   "execution_count": 5,
   "id": "decf8d04",
   "metadata": {},
   "outputs": [
    {
     "name": "stdout",
     "output_type": "stream",
     "text": [
      "100,000,000.000\n",
      "100\n",
      "000\n",
      "000\n",
      "000\n"
     ]
    }
   ],
   "source": [
    "regex_pattern = r\"[,.]+\"\t# Do not delete 'r'.\n",
    "\n",
    "import re\n",
    "print('\\n'.join(re.split(regex_pattern, input())))"
   ]
  },
  {
   "cell_type": "code",
   "execution_count": 6,
   "id": "206a432f",
   "metadata": {},
   "outputs": [
    {
     "name": "stdout",
     "output_type": "stream",
     "text": [
      "apple-banana-kiwi\n"
     ]
    }
   ],
   "source": [
    "#join example\n",
    "import re\n",
    "my_list=['apple',\"banana\",\"kiwi\"]\n",
    "delimiter=\"-\"\n",
    "result=delimiter.join(my_list)\n",
    "print(result)"
   ]
  },
  {
   "cell_type": "code",
   "execution_count": 14,
   "id": "34f222fb",
   "metadata": {},
   "outputs": [
    {
     "name": "stdout",
     "output_type": "stream",
     "text": [
      "1,0,0.0\n",
      "1\n",
      "0\n",
      "0\n",
      "0\n"
     ]
    }
   ],
   "source": [
    "pattern=r\"[,.]+\"\n",
    "import re\n",
    "\n",
    "print('\\n'.join(re.split(pattern,input())))"
   ]
  },
  {
   "cell_type": "markdown",
   "id": "c215c268",
   "metadata": {},
   "source": [
    "# group()\n",
    "A group() expression returns one or more subgroups of the match.\n",
    "Code\n",
    ">>> import re\n",
    ">>> m = re.match(r'(\\w+)@(\\w+)\\.(\\w+)','username@hackerrank.com')\n",
    ">>> m.group(0)       # The entire match \n",
    "'username@hackerrank.com'\n",
    ">>> m.group(1)       # The first parenthesized subgroup.\n",
    "'username'\n",
    ">>> m.group(2)       # The second parenthesized subgroup.\n",
    "'hackerrank'\n",
    ">>> m.group(3)       # The third parenthesized subgroup.\n",
    "'com'\n",
    ">>> m.group(1,2,3)   # Multiple arguments give us a tuple.\n",
    "('username', 'hackerrank', 'com')\n",
    "\n",
    "Code\tMeaning\n",
    "\\d\ta digit\n",
    "\\D\ta non-digit\n",
    "\\s\twhitespace (tab, space, newline, etc.)\n",
    "\\S\tnon-whitespace\n",
    "\\w\talphanumeric\n",
    "\\W\tnon-alphanumeric"
   ]
  },
  {
   "cell_type": "markdown",
   "id": "4694e8f5",
   "metadata": {},
   "source": [
    "# Groups()\n",
    "A groups() expression returns a tuple containing all the subgroups of the match.\n",
    "Code\n",
    "\n",
    ">>> import re\n",
    ">>> m = re.match(r'(\\w+)@(\\w+)\\.(\\w+)','username@hackerrank.com')\n",
    ">>> m.groups()\n",
    "('username', 'hackerrank', 'com')\n"
   ]
  },
  {
   "cell_type": "markdown",
   "id": "6fce8ea6",
   "metadata": {},
   "source": [
    "# groupdict()\n",
    "A groupdict() expression returns a dictionary containing all the named subgroups of the match, keyed by the subgroup name.\n",
    "Code\n",
    "\n",
    ">>> m = re.match(r'(?P<user>\\w+)@(?P<website>\\w+)\\.(?P<extension>\\w+)','myname@hackerrank.com')\n",
    ">>> m.groupdict()\n",
    "{'website': 'hackerrank', 'user': 'myname', 'extensi"
   ]
  },
  {
   "cell_type": "code",
   "execution_count": 18,
   "id": "02325dd1",
   "metadata": {},
   "outputs": [
    {
     "name": "stdout",
     "output_type": "stream",
     "text": [
      "..12345678910111213141516171820212223\n",
      "1\n"
     ]
    }
   ],
   "source": [
    "import re\n",
    "S=input()\n",
    "pattern=r'([a-zA-Z0-9])\\1'\n",
    "m=re.search(pattern,S)\n",
    "if m:\n",
    "    print(m.group(1))\n",
    "else:\n",
    "    print(-1)\n",
    "\n",
    "#input:..12345678910111213141516171820212223\n",
    "#The strip() function in Python is used to remove leading and trailing whitespace characters "
   ]
  },
  {
   "cell_type": "code",
   "execution_count": 17,
   "id": "0b533e61",
   "metadata": {},
   "outputs": [
    {
     "name": "stdout",
     "output_type": "stream",
     "text": [
      "..12345678910111213141516171820212223\n",
      "..12345678910111213141516171820212223\n"
     ]
    }
   ],
   "source": [
    "print(input().strip())"
   ]
  },
  {
   "cell_type": "markdown",
   "id": "d7ed3531",
   "metadata": {},
   "source": [
    "# re.finditer()\n",
    "The expression re.finditer() returns an iterator yielding MatchObject instances over all non-overlapping matches for the re pattern in the string.\n",
    "Code\n",
    "\n",
    ">>> import re\n",
    ">>> re.finditer(r'\\w','http://www.hackerrank.com/')\n",
    "<callable-iterator object at 0x0266C790>\n",
    ">>> map(lambda x: x.group(),re.finditer(r'\\w','http://www.hackerrank.com/'))\n",
    "['h', 't', 't', 'p', 'w', 'w', 'w', 'h', 'a', 'c', 'k"
   ]
  },
  {
   "cell_type": "code",
   "execution_count": 19,
   "id": "e9dc176d",
   "metadata": {},
   "outputs": [
    {
     "name": "stdout",
     "output_type": "stream",
     "text": [
      "rabcdeefgyYhFjkIoomnpOeorteeeeet\n",
      "ee\n",
      "Ioo\n",
      "Oeo\n",
      "eeeee\n"
     ]
    }
   ],
   "source": [
    "#* indicate 0 or more occurance\n",
    "import re\n",
    "match=re.findall(r'\\W*([aeiouAEIOU]{2,})\\W*',input(),flags=re.I)\n",
    "print('\\n'.join(match or ['-1'])) #rabcdeefgyYhFjkIoomnpOeorteeeeet"
   ]
  },
  {
   "cell_type": "markdown",
   "id": "c042f6d0",
   "metadata": {},
   "source": [
    "\\W*: Matches zero or more non-word characters (including spaces, punctuation, etc.), using \\W to match any non-word character and * to match zero or more occurrences.\n",
    "\n",
    "([aeiouAEIOU]{2,}): This part captures a group of two or more consecutive vowels ([aeiouAEIOU]). {2,} specifies that the previous character class ([aeiouAEIOU]) must appear two or more times consecutively.\n",
    "\n",
    "\\W*: Matches zero or more non-word characters after the consecutive vowels.\n",
    "\n",
    "flags=re.I is specifying the re.IGNORECASE flag.\n",
    "The re.IGNORECASE flag (or re.I for short) tells the regular expression engine to perform a case-insensitive matching. This means that uppercase and lowercase letters are treated as equivalent when matching patterns.\n",
    "\n",
    "eg.if you have a pattern [aeiou] and you use the re.IGNORECASE flag, it will match both lowercase and uppercase vowels (a, e, i, o, u, A, E, I, O, U)."
   ]
  },
  {
   "cell_type": "code",
   "execution_count": 20,
   "id": "5bf67fe1",
   "metadata": {},
   "outputs": [
    {
     "name": "stdout",
     "output_type": "stream",
     "text": [
      "rabcdeefgyYhFjkIoomnpOeorteeeeet\n",
      "ee\n",
      "Ioo\n",
      "Oeo\n",
      "eeeee\n"
     ]
    }
   ],
   "source": [
    "import re\n",
    "\n",
    "vowels = 'aeiou'\n",
    "consonants = 'qwrtypsdfghjklzxcvbnm'\n",
    "match = re.findall(r'(?<=[' + consonants + '])([' + vowels + ']{2,})(?=[' + consonants + '])', input(), flags=re.I)\n",
    "print('\\n'.join(match or ['-1']))"
   ]
  },
  {
   "cell_type": "markdown",
   "id": "89d68907",
   "metadata": {},
   "source": [
    "The lookbehind assertion (?<=[' + consonants + ']) checks if the current position is preceded by any character in the consonants string.\n",
    "\n",
    "The capturing group ([' + vowels + ']{2,}) captures two or more consecutive characters from the vowels string.\n",
    "\n",
    "The lookahead assertion (?=[' + consonants + ']) checks if the current position is followed by any character in the consonants string."
   ]
  },
  {
   "cell_type": "code",
   "execution_count": null,
   "id": "fac81d80",
   "metadata": {},
   "outputs": [],
   "source": []
  }
 ],
 "metadata": {
  "kernelspec": {
   "display_name": "Python 3 (ipykernel)",
   "language": "python",
   "name": "python3"
  },
  "language_info": {
   "codemirror_mode": {
    "name": "ipython",
    "version": 3
   },
   "file_extension": ".py",
   "mimetype": "text/x-python",
   "name": "python",
   "nbconvert_exporter": "python",
   "pygments_lexer": "ipython3",
   "version": "3.9.7"
  }
 },
 "nbformat": 4,
 "nbformat_minor": 5
}
